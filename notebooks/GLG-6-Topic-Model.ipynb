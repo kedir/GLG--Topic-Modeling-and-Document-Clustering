{
  "nbformat": 4,
  "nbformat_minor": 0,
  "metadata": {
    "colab": {
      "provenance": [],
      "collapsed_sections": [],
      "machine_shape": "hm"
    },
    "kernelspec": {
      "name": "python3",
      "display_name": "Python 3"
    },
    "language_info": {
      "name": "python"
    },
    "gpuClass": "standard"
  },
  "cells": [
    {
      "cell_type": "markdown",
      "source": [
        "# Install required Libraries"
      ],
      "metadata": {
        "id": "TrV0i1Vk3_cE"
      }
    },
    {
      "cell_type": "code",
      "execution_count": null,
      "metadata": {
        "colab": {
          "base_uri": "https://localhost:8080/"
        },
        "id": "eNA2FS2VPSwI",
        "outputId": "b36b0e3a-9672-49d8-f61e-538fb0fd2241"
      },
      "outputs": [
        {
          "output_type": "stream",
          "name": "stdout",
          "text": [
            "Mounted at /content/drive\n"
          ]
        }
      ],
      "source": [
        "from google.colab import drive\n",
        "drive.mount('/content/drive')"
      ]
    },
    {
      "cell_type": "code",
      "source": [
        "# Install tomotopy\n",
        "! pip install tomotopy"
      ],
      "metadata": {
        "id": "alH-oKMa4EfV",
        "colab": {
          "base_uri": "https://localhost:8080/"
        },
        "outputId": "ce808e2d-0651-4bb7-9073-3528b2aa64b4"
      },
      "execution_count": null,
      "outputs": [
        {
          "output_type": "stream",
          "name": "stdout",
          "text": [
            "Looking in indexes: https://pypi.org/simple, https://us-python.pkg.dev/colab-wheels/public/simple/\n",
            "Collecting tomotopy\n",
            "  Downloading tomotopy-0.12.3-cp37-cp37m-manylinux_2_12_x86_64.manylinux2010_x86_64.whl (16.5 MB)\n",
            "\u001b[K     |████████████████████████████████| 16.5 MB 4.7 MB/s \n",
            "\u001b[?25hRequirement already satisfied: numpy>=1.11.0 in /usr/local/lib/python3.7/dist-packages (from tomotopy) (1.21.6)\n",
            "Installing collected packages: tomotopy\n",
            "Successfully installed tomotopy-0.12.3\n"
          ]
        }
      ]
    },
    {
      "cell_type": "markdown",
      "source": [
        "# Imports and Setup"
      ],
      "metadata": {
        "id": "6GbZy4iAXEVe"
      }
    },
    {
      "cell_type": "code",
      "source": [
        "import pandas as pd\n",
        "import matplotlib.pyplot as plt\n",
        "import seaborn as sns\n",
        "import numpy as np\n",
        "import os\n",
        "import re\n",
        "from IPython.core.interactiveshell import InteractiveShell\n",
        "InteractiveShell.ast_node_interactivity = \"all\" # allow multiple outputs in a cell\n",
        "\n",
        "import warnings\n",
        "warnings.filterwarnings(\"ignore\")\n",
        "%matplotlib inline\n",
        "\n",
        "\n",
        "# import tomptopy\n",
        "import tomotopy as tp\n",
        "import pickle"
      ],
      "metadata": {
        "id": "5tPVn0h1R7cD"
      },
      "execution_count": null,
      "outputs": []
    },
    {
      "cell_type": "code",
      "source": [
        "# Loading NLTK Modules\n",
        "import nltk\n",
        "# nltk.download('all')\n",
        "nltk.download('stopwords')\n",
        "nltk.download('punkt')\n",
        "nltk.download('wordnet')\n",
        "nltk.download('omw-1.4')\n",
        "nltk.download('averaged_perceptron_tagger')\n",
        "from nltk.stem import PorterStemmer\n",
        "from nltk.corpus import stopwords"
      ],
      "metadata": {
        "id": "jVzSV7KaoN8C",
        "colab": {
          "base_uri": "https://localhost:8080/"
        },
        "outputId": "3d9a3495-4702-4980-a4e3-e43af84afdd0"
      },
      "execution_count": null,
      "outputs": [
        {
          "output_type": "stream",
          "name": "stderr",
          "text": [
            "[nltk_data] Downloading package stopwords to /root/nltk_data...\n",
            "[nltk_data]   Unzipping corpora/stopwords.zip.\n"
          ]
        },
        {
          "output_type": "execute_result",
          "data": {
            "text/plain": [
              "True"
            ]
          },
          "metadata": {},
          "execution_count": 4
        },
        {
          "output_type": "stream",
          "name": "stderr",
          "text": [
            "[nltk_data] Downloading package punkt to /root/nltk_data...\n",
            "[nltk_data]   Unzipping tokenizers/punkt.zip.\n"
          ]
        },
        {
          "output_type": "execute_result",
          "data": {
            "text/plain": [
              "True"
            ]
          },
          "metadata": {},
          "execution_count": 4
        },
        {
          "output_type": "stream",
          "name": "stderr",
          "text": [
            "[nltk_data] Downloading package wordnet to /root/nltk_data...\n"
          ]
        },
        {
          "output_type": "execute_result",
          "data": {
            "text/plain": [
              "True"
            ]
          },
          "metadata": {},
          "execution_count": 4
        },
        {
          "output_type": "stream",
          "name": "stderr",
          "text": [
            "[nltk_data] Downloading package omw-1.4 to /root/nltk_data...\n"
          ]
        },
        {
          "output_type": "execute_result",
          "data": {
            "text/plain": [
              "True"
            ]
          },
          "metadata": {},
          "execution_count": 4
        },
        {
          "output_type": "stream",
          "name": "stderr",
          "text": [
            "[nltk_data] Downloading package averaged_perceptron_tagger to\n",
            "[nltk_data]     /root/nltk_data...\n",
            "[nltk_data]   Unzipping taggers/averaged_perceptron_tagger.zip.\n"
          ]
        },
        {
          "output_type": "execute_result",
          "data": {
            "text/plain": [
              "True"
            ]
          },
          "metadata": {},
          "execution_count": 4
        }
      ]
    },
    {
      "cell_type": "code",
      "source": [
        "class topicModel:\n",
        "\n",
        "  # perform pre-processing steps using lemmatization, stop-words and unnecessary punctuation removal\n",
        "  def preprocess_article_text(self, doc_article):\n",
        "    \"\"\"\n",
        "    Accept pandas series, then:\n",
        "    1. Apply Word stemming\n",
        "    2. Apply Stop Word removal\n",
        "    \"\"\"\n",
        "    # clean\n",
        "    doc_article = doc_article.lower()\n",
        "    doc_article = doc_article.replace('\\xa0', '')\n",
        "    doc_article = re.sub('[!\"#$%&\\'()’*+,-./:;<=>?—@[\\\\]^_`{|}~’]', '', doc_article)\n",
        "    # remove digits \n",
        "    doc_article = re.sub(\"^\\d+\\s|\\s\\d+\\s|\\s\\d+$\", \" \", doc_article)\n",
        "    # remove stop words\n",
        "    words = nltk.word_tokenize(doc_article)\n",
        "    stop_words = stopwords.words('english')\n",
        "    stop_words = stop_words + [\"said\", \"says\", \"just\", \"like\", \"would\", \"could\", \"use\", \"told\", \"new\", \"also\", \"thats\", \"even\",\"dont\"]\n",
        "    words = [word for word in words if word not in stop_words and len(word) > 3]\n",
        "    return ' '.join(words)\n",
        "\n",
        "  def multi_grainLdaModel_train(self, doc_list):\n",
        "    # k_g is th number of global topics, while k_l is the number of local topics\n",
        "    mdl = tp.MGLDAModel(k_g=10, k_l=10, min_cf=20, min_df=30)\n",
        "    for document in doc_list:\n",
        "        mdl.add_doc(document.split())\n",
        "\n",
        "    iterations = 10\n",
        "    for i in range(0, 100, iterations):\n",
        "            mdl.train(iterations)\n",
        "            print('Iteration: {}\\tLog-likelihood: {}'.format(i, mdl.ll_per_word))\n",
        "    result_dict_train = self.extract_topic(mdl)\n",
        "    return result_dict_train, mdl\n",
        "\n",
        "  def extract_topic(self, mdl):\n",
        "    result_dict = {}\n",
        "    topic_dict = {}\n",
        "    extractor = tp.label.PMIExtractor(min_cf=20, min_df=30, max_len=5, max_cand=10000)\n",
        "    cands = extractor.extract(mdl)\n",
        "\n",
        "    # ranking the candidates of labels for a specific topic\n",
        "    labeler = tp.label.FoRelevance(mdl, cands, min_df=30, smoothing=1e-2, mu=0.25)\n",
        "\n",
        "    # for k in range(mdl.k):\n",
        "    #   print(\"== Topic #{} ==\".format(k))\n",
        "    #   print(\"Labels:\", ', '.join(label for label, score in labeler.get_topic_labels(k, top_n=5)))\n",
        "    #   for word, prob in mdl.get_topic_words(k, top_n=10):\n",
        "    #     print(word, prob, sep='\\t')\n",
        "\n",
        "    max_topic_num = 0\n",
        "    for k in range(mdl.k_g):\n",
        "        cur_topic = \"topic#\"+str(k)\n",
        "        result_dict[cur_topic] = {}\n",
        "        result_dict[cur_topic][\"labels\"] = (', '.join(label for label, score in labeler.get_topic_labels(k, top_n=5)))\n",
        "        # result_dict[cur_topic]['topics'] = mdl.get_topic_words(k, top_n=10)\n",
        "        result_dict[cur_topic]['topics'] = ' ,'.join([i[0] for i in mdl.get_topic_words(k, top_n=10)])\n",
        "        max_topic_num +=1\n",
        "\n",
        "    for k in range(mdl.k_l):\n",
        "      cur_topic = \"topic#\"+str(max_topic_num+k)\n",
        "      result_dict[cur_topic] = {}\n",
        "      result_dict[cur_topic][\"labels\"] = (', '.join(label for label, score in labeler.get_topic_labels(mdl.k_g + k, top_n=5)))\n",
        "      # result_dict[cur_topic]['topics'] = mdl.get_topic_words(mdl.k_g + k, top_n=10)\n",
        "      result_dict[cur_topic]['topics'] = ' ,'.join([i[0] for i in mdl.get_topic_words(mdl.k_g + k, top_n=10)])\n",
        "     \n",
        "    return result_dict\n",
        "\n",
        "  def multi_grainLdaModel_predict(self, doc_list, mdl):\n",
        "    pred_result = {}\n",
        "    docs_words = []\n",
        "    for doc in doc_list:\n",
        "      docs_words = docs_words + doc.strip().split()\n",
        "    doc_inst = mdl.make_doc(docs_words)\n",
        "    topic_dist, ll = mdl.infer(doc_inst)\n",
        "    # sort the topic dist and take index\n",
        "    topic_dist_arr = np.array(topic_dist)\n",
        "    topic_dist_idx = topic_dist_arr.argsort()[::-1]\n",
        "    mdl_topic = self.extract_topic(mdl)\n",
        "    idx = 0\n",
        "    for i in topic_dist_idx:\n",
        "      if topic_dist[i]>0:\n",
        "        pred_result[\"topic#\"+str(idx)] = mdl_topic[\"topic#\"+str(i)]\n",
        "      idx+=1\n",
        "    return pred_result\n",
        "\n",
        "  def test_data_labels(self, train_emb, train_label, test_emb):\n",
        "    from sklearn.ensemble import RandomForestClassifier\n",
        "    X, y = train_emb, train_label\n",
        "    clf = RandomForestClassifier(max_depth=2, random_state=0)\n",
        "    clf.fit(X, y)\n",
        "    y_test = clf.predict(test_emb)\n",
        "    return y_test\n"
      ],
      "metadata": {
        "id": "vnab3ToAR7o2"
      },
      "execution_count": null,
      "outputs": []
    },
    {
      "cell_type": "code",
      "source": [
        "data_path = '/content/drive/MyDrive/GLG_project/data/GLG_train_data_labeled.csv'\n",
        "df_train = pd.read_csv(data_path, sep=',')"
      ],
      "metadata": {
        "id": "0yfvTUhdMMZv"
      },
      "execution_count": null,
      "outputs": []
    },
    {
      "cell_type": "code",
      "source": [
        "# Creat a class object to access all methods and instance of the class\n",
        "topic_object = topicModel()"
      ],
      "metadata": {
        "id": "pLg7nXlrOJQW"
      },
      "execution_count": null,
      "outputs": []
    },
    {
      "cell_type": "code",
      "source": [
        "# Preprocess training data\n",
        "df_train['preprocessed_article'] =  df_train['article'].apply(topic_object.preprocess_article_text)"
      ],
      "metadata": {
        "id": "qUXB3_o2qTc-"
      },
      "execution_count": null,
      "outputs": []
    },
    {
      "cell_type": "code",
      "source": [
        "df_train.head(2)"
      ],
      "metadata": {
        "id": "gQ8EO4iWsKKM",
        "colab": {
          "base_uri": "https://localhost:8080/",
          "height": 315
        },
        "outputId": "a255e0b7-569c-43aa-999f-e91382988c96"
      },
      "execution_count": null,
      "outputs": [
        {
          "output_type": "execute_result",
          "data": {
            "text/plain": [
              "                  date  year  month  day  \\\n",
              "0  2018-08-09 09:11:14  2018    8.0    9   \n",
              "1  2016-04-26 00:00:00  2016    4.0   26   \n",
              "\n",
              "                                               title  \\\n",
              "0  Psychologists’ Group Maintains Ban on Work at ...   \n",
              "1          Prince autopsy: What examiners looked for   \n",
              "\n",
              "                                             article  \\\n",
              "0  MIND Members of the American Psychological Ass...   \n",
              "1   (CNN)Pop superstar Prince died from an accide...   \n",
              "\n",
              "                                                 url section  \\\n",
              "0  https://www.nytimes.com/2018/08/09/health/inte...  health   \n",
              "1  https://www.cnn.com/2016/04/26/health/prince-d...  health   \n",
              "\n",
              "          publication tech_health_tag  article_word_len  cluster_label  \\\n",
              "0  The New York Times          health               700             22   \n",
              "1                 CNN          health               889              9   \n",
              "\n",
              "                                preprocessed_article  \n",
              "0  mind members american psychological associatio...  \n",
              "1  cnnpop superstar prince died accidental overdo...  "
            ],
            "text/html": [
              "\n",
              "  <div id=\"df-b9667084-b1f3-4c86-86c1-ceec74d25901\">\n",
              "    <div class=\"colab-df-container\">\n",
              "      <div>\n",
              "<style scoped>\n",
              "    .dataframe tbody tr th:only-of-type {\n",
              "        vertical-align: middle;\n",
              "    }\n",
              "\n",
              "    .dataframe tbody tr th {\n",
              "        vertical-align: top;\n",
              "    }\n",
              "\n",
              "    .dataframe thead th {\n",
              "        text-align: right;\n",
              "    }\n",
              "</style>\n",
              "<table border=\"1\" class=\"dataframe\">\n",
              "  <thead>\n",
              "    <tr style=\"text-align: right;\">\n",
              "      <th></th>\n",
              "      <th>date</th>\n",
              "      <th>year</th>\n",
              "      <th>month</th>\n",
              "      <th>day</th>\n",
              "      <th>title</th>\n",
              "      <th>article</th>\n",
              "      <th>url</th>\n",
              "      <th>section</th>\n",
              "      <th>publication</th>\n",
              "      <th>tech_health_tag</th>\n",
              "      <th>article_word_len</th>\n",
              "      <th>cluster_label</th>\n",
              "      <th>preprocessed_article</th>\n",
              "    </tr>\n",
              "  </thead>\n",
              "  <tbody>\n",
              "    <tr>\n",
              "      <th>0</th>\n",
              "      <td>2018-08-09 09:11:14</td>\n",
              "      <td>2018</td>\n",
              "      <td>8.0</td>\n",
              "      <td>9</td>\n",
              "      <td>Psychologists’ Group Maintains Ban on Work at ...</td>\n",
              "      <td>MIND Members of the American Psychological Ass...</td>\n",
              "      <td>https://www.nytimes.com/2018/08/09/health/inte...</td>\n",
              "      <td>health</td>\n",
              "      <td>The New York Times</td>\n",
              "      <td>health</td>\n",
              "      <td>700</td>\n",
              "      <td>22</td>\n",
              "      <td>mind members american psychological associatio...</td>\n",
              "    </tr>\n",
              "    <tr>\n",
              "      <th>1</th>\n",
              "      <td>2016-04-26 00:00:00</td>\n",
              "      <td>2016</td>\n",
              "      <td>4.0</td>\n",
              "      <td>26</td>\n",
              "      <td>Prince autopsy: What examiners looked for</td>\n",
              "      <td>(CNN)Pop superstar Prince died from an accide...</td>\n",
              "      <td>https://www.cnn.com/2016/04/26/health/prince-d...</td>\n",
              "      <td>health</td>\n",
              "      <td>CNN</td>\n",
              "      <td>health</td>\n",
              "      <td>889</td>\n",
              "      <td>9</td>\n",
              "      <td>cnnpop superstar prince died accidental overdo...</td>\n",
              "    </tr>\n",
              "  </tbody>\n",
              "</table>\n",
              "</div>\n",
              "      <button class=\"colab-df-convert\" onclick=\"convertToInteractive('df-b9667084-b1f3-4c86-86c1-ceec74d25901')\"\n",
              "              title=\"Convert this dataframe to an interactive table.\"\n",
              "              style=\"display:none;\">\n",
              "        \n",
              "  <svg xmlns=\"http://www.w3.org/2000/svg\" height=\"24px\"viewBox=\"0 0 24 24\"\n",
              "       width=\"24px\">\n",
              "    <path d=\"M0 0h24v24H0V0z\" fill=\"none\"/>\n",
              "    <path d=\"M18.56 5.44l.94 2.06.94-2.06 2.06-.94-2.06-.94-.94-2.06-.94 2.06-2.06.94zm-11 1L8.5 8.5l.94-2.06 2.06-.94-2.06-.94L8.5 2.5l-.94 2.06-2.06.94zm10 10l.94 2.06.94-2.06 2.06-.94-2.06-.94-.94-2.06-.94 2.06-2.06.94z\"/><path d=\"M17.41 7.96l-1.37-1.37c-.4-.4-.92-.59-1.43-.59-.52 0-1.04.2-1.43.59L10.3 9.45l-7.72 7.72c-.78.78-.78 2.05 0 2.83L4 21.41c.39.39.9.59 1.41.59.51 0 1.02-.2 1.41-.59l7.78-7.78 2.81-2.81c.8-.78.8-2.07 0-2.86zM5.41 20L4 18.59l7.72-7.72 1.47 1.35L5.41 20z\"/>\n",
              "  </svg>\n",
              "      </button>\n",
              "      \n",
              "  <style>\n",
              "    .colab-df-container {\n",
              "      display:flex;\n",
              "      flex-wrap:wrap;\n",
              "      gap: 12px;\n",
              "    }\n",
              "\n",
              "    .colab-df-convert {\n",
              "      background-color: #E8F0FE;\n",
              "      border: none;\n",
              "      border-radius: 50%;\n",
              "      cursor: pointer;\n",
              "      display: none;\n",
              "      fill: #1967D2;\n",
              "      height: 32px;\n",
              "      padding: 0 0 0 0;\n",
              "      width: 32px;\n",
              "    }\n",
              "\n",
              "    .colab-df-convert:hover {\n",
              "      background-color: #E2EBFA;\n",
              "      box-shadow: 0px 1px 2px rgba(60, 64, 67, 0.3), 0px 1px 3px 1px rgba(60, 64, 67, 0.15);\n",
              "      fill: #174EA6;\n",
              "    }\n",
              "\n",
              "    [theme=dark] .colab-df-convert {\n",
              "      background-color: #3B4455;\n",
              "      fill: #D2E3FC;\n",
              "    }\n",
              "\n",
              "    [theme=dark] .colab-df-convert:hover {\n",
              "      background-color: #434B5C;\n",
              "      box-shadow: 0px 1px 3px 1px rgba(0, 0, 0, 0.15);\n",
              "      filter: drop-shadow(0px 1px 2px rgba(0, 0, 0, 0.3));\n",
              "      fill: #FFFFFF;\n",
              "    }\n",
              "  </style>\n",
              "\n",
              "      <script>\n",
              "        const buttonEl =\n",
              "          document.querySelector('#df-b9667084-b1f3-4c86-86c1-ceec74d25901 button.colab-df-convert');\n",
              "        buttonEl.style.display =\n",
              "          google.colab.kernel.accessAllowed ? 'block' : 'none';\n",
              "\n",
              "        async function convertToInteractive(key) {\n",
              "          const element = document.querySelector('#df-b9667084-b1f3-4c86-86c1-ceec74d25901');\n",
              "          const dataTable =\n",
              "            await google.colab.kernel.invokeFunction('convertToInteractive',\n",
              "                                                     [key], {});\n",
              "          if (!dataTable) return;\n",
              "\n",
              "          const docLinkHtml = 'Like what you see? Visit the ' +\n",
              "            '<a target=\"_blank\" href=https://colab.research.google.com/notebooks/data_table.ipynb>data table notebook</a>'\n",
              "            + ' to learn more about interactive tables.';\n",
              "          element.innerHTML = '';\n",
              "          dataTable['output_type'] = 'display_data';\n",
              "          await google.colab.output.renderOutput(dataTable, element);\n",
              "          const docLink = document.createElement('div');\n",
              "          docLink.innerHTML = docLinkHtml;\n",
              "          element.appendChild(docLink);\n",
              "        }\n",
              "      </script>\n",
              "    </div>\n",
              "  </div>\n",
              "  "
            ]
          },
          "metadata": {},
          "execution_count": 14
        }
      ]
    },
    {
      "cell_type": "code",
      "source": [
        "# Run Multi Grain LDA Model for training data\n",
        "model_result_train = {}\n",
        "\n",
        "for cluster_label in sorted(df_train['cluster_label'].unique()):\n",
        "  print('Starting training model {}'.format(cluster_label))\n",
        "  cluster_doc = df_train[df_train['cluster_label']==cluster_label]['preprocessed_article'].tolist()\n",
        "  model_result_train[cluster_label], mdl = topic_object.multi_grainLdaModel_train(cluster_doc)\n",
        "  # save the model file\n",
        "  mdl.save('/content/drive/MyDrive/GLG_project/GLG_topic_model/mdl_topic_model_' + str(cluster_label) + '.bin')"
      ],
      "metadata": {
        "id": "ZyP2D_WzsKaN"
      },
      "execution_count": null,
      "outputs": []
    },
    {
      "cell_type": "code",
      "source": [
        "model_result_train[22]"
      ],
      "metadata": {
        "id": "69JC680doyY_"
      },
      "execution_count": null,
      "outputs": []
    },
    {
      "cell_type": "code",
      "source": [
        "# save model_result_train dictionary using the package pickel \n",
        "path_file = '/content/drive/MyDrive/GLG_project/GLG_topic_model/train_doc_result.pkl'\n",
        "pickle.dump(model_result_train, open(path_file, 'wb')) "
      ],
      "metadata": {
        "id": "k_Fb9FSdFcA7"
      },
      "execution_count": null,
      "outputs": []
    },
    {
      "cell_type": "markdown",
      "source": [
        "# Test "
      ],
      "metadata": {
        "id": "mypGN60FLuNV"
      }
    },
    {
      "cell_type": "code",
      "source": [
        "test_path = '/content/drive/MyDrive/GLG_project/data/GLG_test_data.csv'\n",
        "df_test = pd.read_csv(test_path, sep=',')"
      ],
      "metadata": {
        "id": "Cm3QJ5xw5fb6"
      },
      "execution_count": null,
      "outputs": []
    },
    {
      "cell_type": "code",
      "source": [
        "train_embd_path = '/content/drive/MyDrive/GLG_project/data/GLG_train_data_emb.csv'\n",
        "df_train_embd = pd.read_csv(train_embd_path, sep=',')"
      ],
      "metadata": {
        "id": "-L7K4FUfWFhN"
      },
      "execution_count": null,
      "outputs": []
    },
    {
      "cell_type": "code",
      "source": [
        "test_embd_path = '/content/drive/MyDrive/GLG_project/data/GLG_test_data_emb.csv'\n",
        "df_test_embd = pd.read_csv(test_embd_path, sep=',')"
      ],
      "metadata": {
        "id": "8-At0fmRWFS5"
      },
      "execution_count": null,
      "outputs": []
    },
    {
      "cell_type": "code",
      "source": [
        "train_data_labels = df_train['cluster_label']\n",
        "test_data_labels = topic_object.test_data_labels(df_train_embd, train_data_labels, df_test_embd)\n",
        "df_test['cluster_label'] = test_data_labels"
      ],
      "metadata": {
        "id": "x9kD9_9QPhk3"
      },
      "execution_count": null,
      "outputs": []
    },
    {
      "cell_type": "code",
      "source": [
        "df_test['cluster_label'].value_counts()"
      ],
      "metadata": {
        "colab": {
          "base_uri": "https://localhost:8080/"
        },
        "id": "Hssz_Blwdbfe",
        "outputId": "2ad3886e-80cf-4a01-faa0-3daa1c00f990"
      },
      "execution_count": null,
      "outputs": [
        {
          "output_type": "execute_result",
          "data": {
            "text/plain": [
              "-1     610\n",
              " 1     243\n",
              " 17    159\n",
              " 18     88\n",
              "Name: cluster_label, dtype: int64"
            ]
          },
          "metadata": {},
          "execution_count": 16
        }
      ]
    },
    {
      "cell_type": "code",
      "source": [
        "# Preprocess test data\n",
        "df_test['preprocessed_article'] =  df_test['article'].apply(topic_object.preprocess_article_text)"
      ],
      "metadata": {
        "id": "sGm2HFC2RqVj"
      },
      "execution_count": null,
      "outputs": []
    },
    {
      "cell_type": "code",
      "source": [
        "test_prediction_result = {}\n",
        "\n",
        "for cluster_label in set(test_data_labels):\n",
        "  mdl = tp.MGLDAModel.load('/content/drive/MyDrive/GLG_project/GLG_topic_model/mdl_topic_model_' + str(cluster_label) + '.bin')\n",
        "  test_docs = df_test[df_test['cluster_label']==cluster_label]['preprocessed_article'].tolist()\n",
        "  test_prediction_result[str(cluster_label)] = topic_object.multi_grainLdaModel_predict(test_docs, mdl)"
      ],
      "metadata": {
        "id": "ssmxuGahQys0"
      },
      "execution_count": null,
      "outputs": []
    },
    {
      "cell_type": "code",
      "source": [
        "import json\n",
        "print(json.dumps(test_prediction_result['18'], sort_keys=True, indent=4))"
      ],
      "metadata": {
        "colab": {
          "base_uri": "https://localhost:8080/"
        },
        "id": "4QsflFoE33wJ",
        "outputId": "5d35eecc-5fbe-46ae-a7c5-74947d1606c0"
      },
      "execution_count": null,
      "outputs": [
        {
          "output_type": "stream",
          "name": "stdout",
          "text": [
            "{\n",
            "    \"topic#0\": {\n",
            "        \"labels\": \"youve, anything, things, getting, probably\",\n",
            "        \"topics\": \"people ,want ,many ,much ,know ,well ,years ,around ,work ,service\"\n",
            "    },\n",
            "    \"topic#1\": {\n",
            "        \"labels\": \"motherboard, professor, violating, violence, allows\",\n",
            "        \"topics\": \"users ,people ,content ,post ,online ,still ,site ,public ,information ,email\"\n",
            "    },\n",
            "    \"topic#10\": {\n",
            "        \"labels\": \"tweet, tweets, jack, followers, twitters\",\n",
            "        \"topics\": \"twitter ,instagram ,account ,accounts ,tweets ,users ,twitters ,tweet ,user ,followers\"\n",
            "    },\n",
            "    \"topic#11\": {\n",
            "        \"labels\": \"really, american, three, email, wrote\",\n",
            "        \"topics\": \"accounts ,facebook ,researchers ,information ,million ,research ,pages ,account ,activity ,security\"\n",
            "    },\n",
            "    \"topic#12\": {\n",
            "        \"labels\": \"content, publicly, experience, separate, look\",\n",
            "        \"topics\": \"advertising ,digital ,google ,business ,microsoft ,technology ,executive ,people ,industry ,consumer\"\n",
            "    },\n",
            "    \"topic#13\": {\n",
            "        \"labels\": \"system, profile, american, snapchat, going\",\n",
            "        \"topics\": \"twitter ,abuse ,harassment ,people ,comments ,tools ,dorsey ,twitters ,users ,problem\"\n",
            "    },\n",
            "    \"topic#14\": {\n",
            "        \"labels\": \"began, lead, jack, confirmed, pressure\",\n",
            "        \"topics\": \"news ,live ,video ,last ,attack ,sites ,fake ,police ,streaming ,matter\"\n",
            "    },\n",
            "    \"topic#15\": {\n",
            "        \"labels\": \"publicly, access, snap, price, cnbc\",\n",
            "        \"topics\": \"internet ,security ,trump ,know ,really ,think ,code ,privacy ,things ,national\"\n",
            "    },\n",
            "    \"topic#2\": {\n",
            "        \"labels\": \"violating, intelligence, actions, policies, hate speech\",\n",
            "        \"topics\": \"youtube ,company ,platform ,google ,rules ,videos ,policy ,policies ,content ,last\"\n",
            "    },\n",
            "    \"topic#3\": {\n",
            "        \"labels\": \"legal, rights, national, officials, bill\",\n",
            "        \"topics\": \"companies ,content ,online ,media ,tech ,speech ,court ,platforms ,statement ,first\"\n",
            "    },\n",
            "    \"topic#4\": {\n",
            "        \"labels\": \"analysts, quarter, earnings, growth, investors\",\n",
            "        \"topics\": \"company ,million ,users ,percent ,year ,revenue ,snap ,billion ,advertisers ,growth\"\n",
            "    },\n",
            "    \"topic#5\": {\n",
            "        \"labels\": \"user data, cambridge, cambridge analytica, analytica, scandal\",\n",
            "        \"topics\": \"facebook ,data ,facebooks ,users ,information ,privacy ,company ,social ,user ,employees\"\n",
            "    },\n",
            "    \"topic#6\": {\n",
            "        \"labels\": \"challenges, mark zuckerberg, zuckerberg, congress, mark\",\n",
            "        \"topics\": \"facebook ,zuckerberg ,company ,mark ,social ,chief ,year ,business ,world ,executive\"\n",
            "    },\n",
            "    \"topic#7\": {\n",
            "        \"labels\": \"friends, feed, lets, stories, live\",\n",
            "        \"topics\": \"facebook ,video ,news ,stories ,people ,make ,social ,live ,videos ,time\"\n",
            "    },\n",
            "    \"topic#8\": {\n",
            "        \"labels\": \"politicians, elections, presidential election, presidential, democratic\",\n",
            "        \"topics\": \"facebook ,political ,social ,media ,election ,campaign ,trump ,fake ,news ,president\"\n",
            "    },\n",
            "    \"topic#9\": {\n",
            "        \"labels\": \"social media, biggest, step, tweets, email\",\n",
            "        \"topics\": \"data ,privacy ,facebook ,users ,information ,cambridge ,access ,companies ,analytica ,user\"\n",
            "    }\n",
            "}\n"
          ]
        }
      ]
    },
    {
      "cell_type": "code",
      "source": [],
      "metadata": {
        "id": "7QJ09aT93FIV"
      },
      "execution_count": null,
      "outputs": []
    }
  ]
}